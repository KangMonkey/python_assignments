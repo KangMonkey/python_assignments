{
  "cells": [
    {
      "cell_type": "markdown",
      "metadata": {
        "id": "view-in-github",
        "colab_type": "text"
      },
      "source": [
        "<a href=\"https://colab.research.google.com/github/KangMonkey/python_assignments/blob/main/python_basics.ipynb\" target=\"_parent\"><img src=\"https://colab.research.google.com/assets/colab-badge.svg\" alt=\"Open In Colab\"/></a>"
      ]
    },
    {
      "cell_type": "code",
      "execution_count": 1,
      "id": "b027263b",
      "metadata": {
        "colab": {
          "base_uri": "https://localhost:8080/"
        },
        "id": "b027263b",
        "outputId": "dee8b853-4aec-416f-a101-ceb641b92fcc"
      },
      "outputs": [
        {
          "output_type": "stream",
          "name": "stdout",
          "text": [
            "Babe\n"
          ]
        }
      ],
      "source": [
        "print(\"Babe\")\n"
      ]
    },
    {
      "cell_type": "code",
      "execution_count": null,
      "id": "31da4c8f",
      "metadata": {
        "id": "31da4c8f",
        "outputId": "5fee58b6-296c-4356-8647-ed02e280a68e"
      },
      "outputs": [
        {
          "name": "stdout",
          "output_type": "stream",
          "text": [
            "Enter your Namesam\n",
            "sam\n"
          ]
        }
      ],
      "source": [
        "name=input(\"Enter your Name\")\n",
        "print(name)\n"
      ]
    },
    {
      "cell_type": "code",
      "execution_count": null,
      "id": "6358882c",
      "metadata": {
        "id": "6358882c",
        "outputId": "a7fad600-d5b5-4536-dde0-8f7405abb218"
      },
      "outputs": [
        {
          "name": "stdout",
          "output_type": "stream",
          "text": [
            "Fauda mera lawda\n"
          ]
        }
      ],
      "source": [
        "stg=\"Fauda mera lawda\"\n",
        "print(stg)\n"
      ]
    },
    {
      "cell_type": "code",
      "execution_count": null,
      "id": "83fb6861",
      "metadata": {
        "id": "83fb6861",
        "outputId": "6a1ec364-1aac-48ec-c082-4ccf6fd163e3"
      },
      "outputs": [
        {
          "name": "stdout",
          "output_type": "stream",
          "text": [
            "Fauda mera lawda"
          ]
        }
      ],
      "source": [
        "for a in stg:\n",
        "      print(a,end=\"\")"
      ]
    },
    {
      "cell_type": "code",
      "execution_count": null,
      "id": "a0d991fc",
      "metadata": {
        "id": "a0d991fc",
        "outputId": "cb93c227-cfbc-42fe-e02b-44e186048126"
      },
      "outputs": [
        {
          "name": "stdout",
          "output_type": "stream",
          "text": [
            "('Fauda', ' mera ', 'lawda')\n"
          ]
        }
      ],
      "source": [
        "print(stg.rpartition(\" mera \"))"
      ]
    },
    {
      "cell_type": "code",
      "execution_count": null,
      "id": "cef5bb30",
      "metadata": {
        "id": "cef5bb30",
        "outputId": "383a825f-3db5-458b-a322-718f5d916985"
      },
      "outputs": [
        {
          "name": "stdout",
          "output_type": "stream",
          "text": [
            "('lawda', 'lawda', 'lawda', 'lawda', 'lawda', 'lawda', 'lawda', 'lawda', 'lawda', 'lawda')\n"
          ]
        }
      ],
      "source": [
        "rep=(\"lawda\",)*10\n",
        "print(rep)"
      ]
    },
    {
      "cell_type": "code",
      "execution_count": null,
      "id": "402d994a",
      "metadata": {
        "id": "402d994a",
        "outputId": "9fb2279c-2c30-4bc6-f0b5-4f43269c8f74"
      },
      "outputs": [
        {
          "name": "stdout",
          "output_type": "stream",
          "text": [
            "{1, 2, 3, 4}\n",
            "<class 'set'>\n"
          ]
        }
      ],
      "source": [
        "s= set([1,2,3,4])\n",
        "print(s)\n",
        "print(type(s))"
      ]
    },
    {
      "cell_type": "code",
      "execution_count": null,
      "id": "ab6010db",
      "metadata": {
        "id": "ab6010db"
      },
      "outputs": [],
      "source": [
        "s.add('a')"
      ]
    },
    {
      "cell_type": "code",
      "execution_count": null,
      "id": "13e48be3",
      "metadata": {
        "id": "13e48be3",
        "outputId": "a28c2641-79ef-45b9-c195-d2cdff026497"
      },
      "outputs": [
        {
          "name": "stdout",
          "output_type": "stream",
          "text": [
            "{1, 2, 3, 4, 'a'}\n"
          ]
        }
      ],
      "source": [
        "print(s)"
      ]
    },
    {
      "cell_type": "code",
      "execution_count": null,
      "id": "37452171",
      "metadata": {
        "id": "37452171",
        "outputId": "94ac830a-b0aa-4eba-c62a-063d4bc3b465"
      },
      "outputs": [
        {
          "name": "stdout",
          "output_type": "stream",
          "text": [
            "frozenset({1, 2, 3, 4})\n"
          ]
        }
      ],
      "source": [
        "fs=frozenset([1,2,3,4])\n",
        "print(fs)"
      ]
    },
    {
      "cell_type": "code",
      "execution_count": null,
      "id": "7f41d184",
      "metadata": {
        "id": "7f41d184",
        "outputId": "370f9071-c49a-4548-c2d3-0d1b4fe583bf"
      },
      "outputs": [
        {
          "data": {
            "text/plain": [
              "{1, 2, 3, 7, 8, 9}"
            ]
          },
          "execution_count": 11,
          "metadata": {},
          "output_type": "execute_result"
        }
      ],
      "source": [
        "s1=set([1,3,7,2])\n",
        "s2=set([3,2,8,9])\n",
        "s1.union(s2)"
      ]
    },
    {
      "cell_type": "code",
      "execution_count": null,
      "id": "f7471360",
      "metadata": {
        "id": "f7471360",
        "outputId": "647777cc-512a-44a0-9403-e7174bdda357"
      },
      "outputs": [
        {
          "data": {
            "text/plain": [
              "{2, 3}"
            ]
          },
          "execution_count": 12,
          "metadata": {},
          "output_type": "execute_result"
        }
      ],
      "source": [
        "s1=set([1,3,7,2])\n",
        "s2=set([3,2,8,9])\n",
        "s1.intersection(s2)"
      ]
    },
    {
      "cell_type": "code",
      "execution_count": null,
      "id": "d70ee0fb",
      "metadata": {
        "id": "d70ee0fb",
        "outputId": "9c01bf65-fc39-47a3-e8cc-fba4a2c4607f"
      },
      "outputs": [
        {
          "data": {
            "text/plain": [
              "{1, 7}"
            ]
          },
          "execution_count": 13,
          "metadata": {},
          "output_type": "execute_result"
        }
      ],
      "source": [
        "s1=set([1,3,7,2])\n",
        "s2=set([3,2,8,9])\n",
        "s1.difference(s2)"
      ]
    },
    {
      "cell_type": "code",
      "execution_count": null,
      "id": "8e7a01fd",
      "metadata": {
        "id": "8e7a01fd",
        "outputId": "56643143-7ba2-4b69-a1d0-e0ea685a146d"
      },
      "outputs": [
        {
          "name": "stdout",
          "output_type": "stream",
          "text": [
            "This is the body\n",
            "This is not the body\n"
          ]
        }
      ],
      "source": [
        "a=60\n",
        "if a>50:\n",
        "    print(\"This is the body\")\n",
        "print(\"This is not the body\")"
      ]
    },
    {
      "cell_type": "code",
      "execution_count": null,
      "id": "92376444",
      "metadata": {
        "id": "92376444",
        "outputId": "b126751b-58ff-402b-fac7-53aa98a338a3"
      },
      "outputs": [
        {
          "name": "stdout",
          "output_type": "stream",
          "text": [
            "Bhakk Chutiya\n"
          ]
        }
      ],
      "source": [
        "a=20\n",
        "if a>50:\n",
        "    print(\"This is the body\")\n",
        "else:\n",
        "    print(\"Bhakk Chutiya\")"
      ]
    },
    {
      "cell_type": "code",
      "execution_count": null,
      "id": "1120f1b6",
      "metadata": {
        "id": "1120f1b6",
        "outputId": "cff2d815-0836-43b8-9767-ddd6c3810583"
      },
      "outputs": [
        {
          "name": "stdout",
          "output_type": "stream",
          "text": [
            "This is the else block\n",
            "i is an odd number.\n"
          ]
        }
      ],
      "source": [
        "i=23\n",
        "if i%2==0:\n",
        "    print(\"This is the if block\")\n",
        "    print(\"i is an even number\")\n",
        "else:\n",
        "    print(\"This is the else block\")\n",
        "    print(\"i is an odd number.\")"
      ]
    },
    {
      "cell_type": "markdown",
      "id": "8b6dabcf",
      "metadata": {
        "id": "8b6dabcf"
      },
      "source": [
        "#Nested If"
      ]
    },
    {
      "cell_type": "code",
      "execution_count": null,
      "id": "d3b511c4",
      "metadata": {
        "id": "d3b511c4",
        "outputId": "2db601f1-0baa-4076-ab01-9afa92db344f"
      },
      "outputs": [
        {
          "name": "stdout",
          "output_type": "stream",
          "text": [
            "c is greater than 25\n"
          ]
        }
      ],
      "source": [
        "c=50\n",
        "if c<25:\n",
        "    if c%2==0:\n",
        "        print(\"c is an even number less than 25\")\n",
        "    else:\n",
        "            print(\"c is an odd number less than 25\")\n",
        "else:\n",
        "    print(\"c is greater than 25\")\n",
        "            "
      ]
    },
    {
      "cell_type": "markdown",
      "id": "ae997dd4",
      "metadata": {
        "id": "ae997dd4"
      },
      "source": [
        "# if-elif-else statement\n"
      ]
    },
    {
      "cell_type": "code",
      "execution_count": null,
      "id": "150e72d7",
      "metadata": {
        "id": "150e72d7",
        "outputId": "310a5941-6f24-4306-934c-8f3b5ffa5dfd"
      },
      "outputs": [
        {
          "name": "stdout",
          "output_type": "stream",
          "text": [
            "This is a consonant\n"
          ]
        }
      ],
      "source": [
        "var=\"z\"\n",
        "if var=='a':\n",
        "    print(\"This is a vowl a\")\n",
        "elif var=='e':\n",
        "    print(\"This is vowel e\")\n",
        "elif var=='i':\n",
        "    print(\"This is vowel i\")\n",
        "elif var=='o':\n",
        "    print(\"This is vowel o\")\n",
        "elif var=='u':\n",
        "    print(\"This is vowel u\")\n",
        "else:\n",
        "    print(\"This is a consonant\")"
      ]
    },
    {
      "cell_type": "code",
      "execution_count": null,
      "id": "35c43d3d",
      "metadata": {
        "id": "35c43d3d",
        "outputId": "36533cd0-da70-4a02-dd89-4445245b6ed2"
      },
      "outputs": [
        {
          "name": "stdout",
          "output_type": "stream",
          "text": [
            "['code', 'in', 'python']\n"
          ]
        }
      ],
      "source": [
        ">>> A, *B,C = (\"i\",\"code\",\"in\",\"python\",\"proficiency\")\n",
        ">>> print(B)"
      ]
    },
    {
      "cell_type": "code",
      "execution_count": null,
      "id": "a2c287a0",
      "metadata": {
        "id": "a2c287a0",
        "outputId": "66bfd5a2-098d-42ee-8e0b-2e9500ad0ec0"
      },
      "outputs": [
        {
          "name": "stdout",
          "output_type": "stream",
          "text": [
            "Enter multiple of 714\n",
            "14 is a multiple of 7\n"
          ]
        }
      ],
      "source": [
        "val=int(input(\"Enter multiple of 7\"))\n",
        "while val%7!=0:\n",
        "    val= int(input(\"Enter Multiple of 7\"))\n",
        "else:\n",
        "    print(\"%d is a multiple of 7\" %val)        \n",
        "    "
      ]
    },
    {
      "cell_type": "code",
      "execution_count": null,
      "id": "3ac2f09e",
      "metadata": {
        "id": "3ac2f09e",
        "outputId": "803463df-b6af-4843-fb06-7c0dc1472a67"
      },
      "outputs": [
        {
          "name": "stdout",
          "output_type": "stream",
          "text": [
            "1\n",
            "6\n",
            "Simplilearn\n"
          ]
        }
      ],
      "source": [
        "x=[1,6,\"Simplilearn\"]\n",
        "for i in x:\n",
        "    print(i)"
      ]
    },
    {
      "cell_type": "code",
      "execution_count": null,
      "id": "3f9682d7",
      "metadata": {
        "id": "3f9682d7",
        "outputId": "432752fa-5878-441d-d280-f4ff8e67ed09"
      },
      "outputs": [
        {
          "name": "stdout",
          "output_type": "stream",
          "text": [
            "123\n",
            "abc\n"
          ]
        }
      ],
      "source": [
        "x=[[1,2,3],[\"a\",\"b\",\"c\"]]\n",
        "for i in x:\n",
        "    for j in i:\n",
        "            print(j,end=\"\")\n",
        "    print()"
      ]
    },
    {
      "cell_type": "code",
      "execution_count": null,
      "id": "53f32208",
      "metadata": {
        "id": "53f32208",
        "outputId": "9d94bd1e-eba3-4497-abf9-b0f1db95a693"
      },
      "outputs": [
        {
          "name": "stdout",
          "output_type": "stream",
          "text": [
            "Hey there"
          ]
        }
      ],
      "source": [
        "x=\"Hey there! Nikal lawde\"\n",
        "for i in x:\n",
        "    if i==\"!\":\n",
        "        break\n",
        "    print(i,end=\"\")"
      ]
    },
    {
      "cell_type": "code",
      "execution_count": null,
      "id": "ed0e8524",
      "metadata": {
        "id": "ed0e8524",
        "outputId": "d374f3d7-06b4-4d17-bccf-47fefc68640a"
      },
      "outputs": [
        {
          "name": "stdout",
          "output_type": "stream",
          "text": [
            "13\n",
            "56\n"
          ]
        }
      ],
      "source": [
        "for i in [1,13,56,4,6]:\n",
        "    if i<10:\n",
        "        continue\n",
        "    else:\n",
        "         print(i)"
      ]
    },
    {
      "cell_type": "code",
      "execution_count": null,
      "id": "60ecb001",
      "metadata": {
        "id": "60ecb001",
        "outputId": "4ed4a8a3-d387-4129-8051-b1f210151cf2"
      },
      "outputs": [
        {
          "name": "stdout",
          "output_type": "stream",
          "text": [
            "110\n"
          ]
        }
      ],
      "source": [
        "sum=0\n",
        "for i in range(0,21):\n",
        "        if i%2==0:\n",
        "            sum=sum+i\n",
        "print(sum)"
      ]
    },
    {
      "cell_type": "code",
      "execution_count": null,
      "id": "0ad3098d",
      "metadata": {
        "id": "0ad3098d",
        "outputId": "a358c0d6-0ba5-41f3-c956-12897a413d18"
      },
      "outputs": [
        {
          "name": "stdout",
          "output_type": "stream",
          "text": [
            "enter a number34\n",
            "1\n",
            "12\n",
            "123\n",
            "1234\n",
            "12345\n",
            "123456\n",
            "1234567\n",
            "12345678\n",
            "123456789\n",
            "12345678910\n",
            "1234567891011\n",
            "123456789101112\n",
            "12345678910111213\n",
            "1234567891011121314\n",
            "123456789101112131415\n",
            "12345678910111213141516\n",
            "1234567891011121314151617\n",
            "123456789101112131415161718\n",
            "12345678910111213141516171819\n",
            "1234567891011121314151617181920\n",
            "123456789101112131415161718192021\n",
            "12345678910111213141516171819202122\n",
            "1234567891011121314151617181920212223\n",
            "123456789101112131415161718192021222324\n",
            "12345678910111213141516171819202122232425\n",
            "1234567891011121314151617181920212223242526\n",
            "123456789101112131415161718192021222324252627\n",
            "12345678910111213141516171819202122232425262728\n",
            "1234567891011121314151617181920212223242526272829\n",
            "123456789101112131415161718192021222324252627282930\n",
            "12345678910111213141516171819202122232425262728293031\n",
            "1234567891011121314151617181920212223242526272829303132\n",
            "123456789101112131415161718192021222324252627282930313233\n",
            "12345678910111213141516171819202122232425262728293031323334\n"
          ]
        }
      ],
      "source": [
        "n=int(input(\"enter a number\"))\n",
        "for i in range(1,n+1):\n",
        "    for j in range(1,i+1):\n",
        "        print(j,end=\"\")\n",
        "    print()"
      ]
    },
    {
      "cell_type": "code",
      "execution_count": null,
      "id": "dcd14ca3",
      "metadata": {
        "id": "dcd14ca3",
        "outputId": "a2a60582-046b-40e6-fa96-c6a4217d4ebb"
      },
      "outputs": [
        {
          "name": "stdout",
          "output_type": "stream",
          "text": [
            "enter no.of rows22\n",
            "enter no.of columns33\n"
          ]
        },
        {
          "ename": "AttributeError",
          "evalue": "'int' object has no attribute 'insert'",
          "output_type": "error",
          "traceback": [
            "\u001b[1;31m---------------------------------------------------------------------------\u001b[0m",
            "\u001b[1;31mAttributeError\u001b[0m                            Traceback (most recent call last)",
            "\u001b[1;32m~\\AppData\\Local\\Temp/ipykernel_14088/2611975779.py\u001b[0m in \u001b[0;36m<module>\u001b[1;34m\u001b[0m\n\u001b[0;32m      4\u001b[0m \u001b[1;32mfor\u001b[0m \u001b[0mi\u001b[0m \u001b[1;32min\u001b[0m \u001b[0mrange\u001b[0m\u001b[1;33m(\u001b[0m\u001b[1;36m0\u001b[0m\u001b[1;33m,\u001b[0m\u001b[0mr\u001b[0m\u001b[1;33m)\u001b[0m\u001b[1;33m:\u001b[0m\u001b[1;33m\u001b[0m\u001b[1;33m\u001b[0m\u001b[0m\n\u001b[0;32m      5\u001b[0m     \u001b[1;32mfor\u001b[0m \u001b[0mj\u001b[0m \u001b[1;32min\u001b[0m \u001b[0mrange\u001b[0m\u001b[1;33m(\u001b[0m\u001b[1;36m0\u001b[0m\u001b[1;33m,\u001b[0m\u001b[0mc\u001b[0m\u001b[1;33m)\u001b[0m\u001b[1;33m:\u001b[0m\u001b[1;33m\u001b[0m\u001b[1;33m\u001b[0m\u001b[0m\n\u001b[1;32m----> 6\u001b[1;33m         \u001b[0mval\u001b[0m\u001b[1;33m.\u001b[0m\u001b[0minsert\u001b[0m\u001b[1;33m(\u001b[0m\u001b[0mj\u001b[0m\u001b[1;33m,\u001b[0m\u001b[0minput\u001b[0m\u001b[1;33m(\u001b[0m\u001b[1;34m\"enter the %d * %d element\"\u001b[0m \u001b[1;33m%\u001b[0m\u001b[1;33m(\u001b[0m\u001b[0mi\u001b[0m\u001b[1;33m,\u001b[0m\u001b[0mj\u001b[0m\u001b[1;33m)\u001b[0m\u001b[1;33m)\u001b[0m\u001b[1;33m)\u001b[0m\u001b[1;33m\u001b[0m\u001b[1;33m\u001b[0m\u001b[0m\n\u001b[0m\u001b[0;32m      7\u001b[0m     \u001b[0mx\u001b[0m\u001b[1;33m.\u001b[0m\u001b[0minsert\u001b[0m\u001b[1;33m(\u001b[0m\u001b[0mi\u001b[0m\u001b[1;33m,\u001b[0m\u001b[0mval\u001b[0m\u001b[1;33m)\u001b[0m\u001b[1;33m\u001b[0m\u001b[1;33m\u001b[0m\u001b[0m\n\u001b[0;32m      8\u001b[0m \u001b[0mY\u001b[0m\u001b[1;33m=\u001b[0m\u001b[1;33m[\u001b[0m\u001b[1;33m]\u001b[0m\u001b[1;33m\u001b[0m\u001b[1;33m\u001b[0m\u001b[0m\n",
            "\u001b[1;31mAttributeError\u001b[0m: 'int' object has no attribute 'insert'"
          ]
        }
      ],
      "source": [
        "r=int(input(\"enter no.of rows\"))\n",
        "c=int(input(\"enter no.of columns\"))\n",
        "X=[]\n",
        "for i in range(0,r):\n",
        "    for j in range(0,c):\n",
        "        val.insert(j,input(\"enter the %d * %d element\" %(i,j)))\n",
        "    x.insert(i,val)\n",
        "Y=[]\n",
        "for i in range(0,r):\n",
        "    for j in range(0,c):\n",
        "        val.insert(j,input(\"enter the %d * %d element\" %(i,j)))\n",
        "    y.insert(i,val)\n",
        "    val=[]\n",
        "sum=[]\n",
        "\n",
        "for i in r:\n",
        "    for j in c:\n",
        "        val.insert(j,X[i][j]+Y[i][j])\n",
        "    sum.insert(i,val)\n",
        "    val=[]\n",
        "print(sum)"
      ]
    },
    {
      "cell_type": "code",
      "execution_count": null,
      "id": "330daa00",
      "metadata": {
        "id": "330daa00"
      },
      "outputs": [],
      "source": [
        "i=1\n",
        "while i<=10:\n",
        "    print(\"Sambit\")\n",
        "    i+=1"
      ]
    },
    {
      "cell_type": "code",
      "execution_count": null,
      "id": "d4a9bd17",
      "metadata": {
        "id": "d4a9bd17"
      },
      "outputs": [],
      "source": [
        "i=1\n",
        "sum=0\n",
        "while i<=10:\n",
        "    if i%2==0:\n",
        "        sum=sum+i\n",
        "    print(\"Sambit\")\n",
        "    i+=1\n",
        "print(sum)"
      ]
    },
    {
      "cell_type": "markdown",
      "id": "7fec337a",
      "metadata": {
        "id": "7fec337a"
      },
      "source": [
        "# Print number oppositely"
      ]
    },
    {
      "cell_type": "code",
      "execution_count": null,
      "id": "6c380b4f",
      "metadata": {
        "id": "6c380b4f"
      },
      "outputs": [],
      "source": [
        "n=int(input(\"Enter Number\"))\n",
        "nr=0\n",
        "while n%10!=0:\n",
        "    c=n%10\n",
        "    nr= nr*10 +c\n",
        "    n=n//10\n",
        "print(nr)"
      ]
    },
    {
      "cell_type": "code",
      "execution_count": null,
      "id": "2c9c6ceb",
      "metadata": {
        "id": "2c9c6ceb"
      },
      "outputs": [],
      "source": [
        "X=[1,2.3,\"Smplilearn\"]\n",
        "len(X)"
      ]
    },
    {
      "cell_type": "markdown",
      "id": "1efb01fa",
      "metadata": {
        "id": "1efb01fa"
      },
      "source": [
        "# Pattern using nested Loop"
      ]
    },
    {
      "cell_type": "code",
      "execution_count": null,
      "id": "9b0ee17b",
      "metadata": {
        "id": "9b0ee17b"
      },
      "outputs": [],
      "source": [
        "n=int(input(\"Enter a number\"))\n",
        "i=1\n",
        "while i<=n:\n",
        "    j=1\n",
        "    while j<=i:\n",
        "        print(i,end=\"\")\n",
        "        j+=1\n",
        "    i+=1\n",
        "    print()"
      ]
    },
    {
      "cell_type": "code",
      "execution_count": null,
      "id": "b55756ef",
      "metadata": {
        "id": "b55756ef",
        "outputId": "c8469432-675e-44e9-c446-f7173436f365"
      },
      "outputs": [
        {
          "name": "stdout",
          "output_type": "stream",
          "text": [
            "6120\n",
            "Enter a 4 digit number6120\n",
            "0 digits were guessed right\n",
            "Enter a 4 digit number4344\n",
            "0 digits were guessed right\n"
          ]
        }
      ],
      "source": [
        "import random\n",
        "nump=random.randint(1000,9999)\n",
        "print(nump)\n",
        "n=int(input(\"Enter a 4 digit number\"))\n",
        "while n!=10:\n",
        "    num=nump\n",
        "    cor=0\n",
        "    while num%10:\n",
        "        numc=num%10\n",
        "        nc=n%10\n",
        "        num=num//10\n",
        "        n=n//10\n",
        "        if numc==nc:\n",
        "            cor=cor+1\n",
        "    if cor==4:\n",
        "        print(\"Conrats!you guessed it right!\")\n",
        "        break\n",
        "    else:\n",
        "        print(\"%d digits were guessed right\"%cor)        \n",
        "        n=int(input(\"Enter a 4 digit number\"))\n",
        "else:\n",
        "    print(\"yes!you quit the game!\")"
      ]
    },
    {
      "cell_type": "code",
      "execution_count": null,
      "id": "db8c6c7e",
      "metadata": {
        "id": "db8c6c7e"
      },
      "outputs": [],
      "source": [
        ""
      ]
    }
  ],
  "metadata": {
    "kernelspec": {
      "display_name": "Python 3 (ipykernel)",
      "language": "python",
      "name": "python3"
    },
    "language_info": {
      "codemirror_mode": {
        "name": "ipython",
        "version": 3
      },
      "file_extension": ".py",
      "mimetype": "text/x-python",
      "name": "python",
      "nbconvert_exporter": "python",
      "pygments_lexer": "ipython3",
      "version": "3.9.7"
    },
    "colab": {
      "name": "python_basics.ipynb",
      "provenance": [],
      "include_colab_link": true
    }
  },
  "nbformat": 4,
  "nbformat_minor": 5
}