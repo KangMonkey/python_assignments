{
  "nbformat": 4,
  "nbformat_minor": 0,
  "metadata": {
    "colab": {
      "name": "Gr4_185.ipynb",
      "provenance": [],
      "collapsed_sections": [],
      "authorship_tag": "ABX9TyPWziTmPZQS8u9TPY0vZu3I",
      "include_colab_link": true
    },
    "kernelspec": {
      "name": "python3",
      "display_name": "Python 3"
    },
    "language_info": {
      "name": "python"
    }
  },
  "cells": [
    {
      "cell_type": "markdown",
      "metadata": {
        "id": "view-in-github",
        "colab_type": "text"
      },
      "source": [
        "<a href=\"https://colab.research.google.com/github/KangMonkey/python_assignments/blob/main/Gr4_185.ipynb\" target=\"_parent\"><img src=\"https://colab.research.google.com/assets/colab-badge.svg\" alt=\"Open In Colab\"/></a>"
      ]
    },
    {
      "cell_type": "code",
      "execution_count": 1,
      "metadata": {
        "colab": {
          "base_uri": "https://localhost:8080/"
        },
        "id": "GbgUfFlmRdvr",
        "outputId": "9310a127-17db-47b3-c562-43e1e1c77599"
      },
      "outputs": [
        {
          "output_type": "stream",
          "name": "stdout",
          "text": [
            "X + Y =  50\n",
            "X - Y =  10\n",
            "X / Y =  1.5\n",
            "X % Y =  10\n",
            "X * Y =  600\n"
          ]
        }
      ],
      "source": [
        "x=30 #variable 1\n",
        "y=20 #variable 2\n",
        "print(\"X + Y = \",x+y) #addition\n",
        "print(\"X - Y = \",x-y) #substraction\n",
        "print(\"X / Y = \",x/y) #ivision\n",
        "print(\"X % Y = \",x%y) #modulus\n",
        "print(\"X * Y = \",x*y)  #exponent"
      ]
    },
    {
      "cell_type": "code",
      "source": [
        "#This Is Single Line Comment\n",
        "\"\"\"\n",
        "This Is Used For Multiple Comment\n",
        "\"\"\"\n",
        "print(\"Sambit Kumar\")#Name\n",
        "print(\"CSE\")#Branch\n",
        "print(\"CS190017\")#Roll no\n",
        "print(\"6th\")#Semester\n",
        "print(\"Computer Science\")#Department\n",
        "print(\"C.V. Raman Global University,Bhubaneswar\")#College name\n",
        "print(\" This is line1\\n This is line2\")#\\n is use to break the current Line"
      ],
      "metadata": {
        "colab": {
          "base_uri": "https://localhost:8080/"
        },
        "id": "brdkNj22UwZA",
        "outputId": "7889ba1d-a512-49ee-b422-8592b089f48a"
      },
      "execution_count": 2,
      "outputs": [
        {
          "output_type": "stream",
          "name": "stdout",
          "text": [
            "Sambit Kumar\n",
            "CSE\n",
            "CS190017\n",
            "6th\n",
            "Computer Science\n",
            "C.V. Raman Global University,Bhubaneswar\n",
            " This is line1\n",
            " This is line2\n"
          ]
        }
      ]
    },
    {
      "cell_type": "code",
      "source": [
        "#Conversion of Celsius to Fahrenheit\n",
        "C=int(input(\"Enter Temperature in Celsius Degree : \"))\n",
        "F=((9/5)*C)+32\n",
        "print(\"Temperature in Fahrenheit Scale is : \",F)"
      ],
      "metadata": {
        "colab": {
          "base_uri": "https://localhost:8080/"
        },
        "id": "b2aMjszfVD7j",
        "outputId": "192cd776-59b9-4adf-a010-3817fb5d7290"
      },
      "execution_count": 3,
      "outputs": [
        {
          "output_type": "stream",
          "name": "stdout",
          "text": [
            "Enter Temperature in Celsius Degree : 23\n",
            "Temperature in Fahrenheit Scale is :  73.4\n"
          ]
        }
      ]
    },
    {
      "cell_type": "code",
      "source": [
        "#Taking User Input\n",
        "A=int(input(\"Enter Value Of A : \"))\n",
        "B=int(input(\"Enter Value Of B : \"))\n",
        "#Arithmetic operations\n",
        "print(\"A + B = \",A+B) #addition\n",
        "print(\"A * B = \",A*B) #multiplication\n",
        "print(\"A / B = \",A/B) #Division\n",
        "print(\"A // B = \",A//B) #Floor Division\n",
        "print(\"A % B = \",A%B) #modulus\n",
        "print(\"A * B = \",A*B)  #exponent"
      ],
      "metadata": {
        "colab": {
          "base_uri": "https://localhost:8080/"
        },
        "id": "VRza6UoRVOKW",
        "outputId": "62773192-969b-4857-ef50-89dabe385921"
      },
      "execution_count": 4,
      "outputs": [
        {
          "output_type": "stream",
          "name": "stdout",
          "text": [
            "Enter Value Of A : 4\n",
            "Enter Value Of B : 5\n",
            "A + B =  9\n",
            "A * B =  20\n",
            "A / B =  0.8\n",
            "A // B =  0\n",
            "A % B =  4\n",
            "A * B =  20\n"
          ]
        }
      ]
    },
    {
      "cell_type": "code",
      "source": [
        "hours=int(input(\"Enter Hours : \"))\n",
        "rate=float(input(\"Enter Rates : \"))"
      ],
      "metadata": {
        "colab": {
          "base_uri": "https://localhost:8080/"
        },
        "id": "1XfJz1OeVY8F",
        "outputId": "55d008c8-996d-4db1-b605-b71086409d11"
      },
      "execution_count": 5,
      "outputs": [
        {
          "name": "stdout",
          "output_type": "stream",
          "text": [
            "Enter Hours : 32\n",
            "Enter Rates : 44\n"
          ]
        }
      ]
    },
    {
      "cell_type": "code",
      "source": [
        "PI_value=3.141\n",
        "radius=23\n",
        "first_length_of_triangle=12\n",
        "Second_length_of_triangle=13\n",
        "Third_length_of_triangle=14\n",
        "length_of_square=13\n",
        "print(\"Area Of Circle is : \",PI_value*(radius**2))\n",
        "print(\"Perimeter Of Circle is : \",2*PI_value*radius)\n",
        "print(\"Area Of Square : \",(length_of_square**2))\n",
        "print(\"Perimeter Of Square is : \",4*length_of_square)\n",
        "print(\"Perimeter Of Triangle is : \",(first_length_of_triangle+Second_length_of_triangle+Third_length_of_triangle))\n",
        "s=(first_length_of_triangle+Second_length_of_triangle+Third_length_of_triangle)/2\n",
        "var=s*(s-first_length_of_triangle)*(s-Second_length_of_triangle)*(s-Third_length_of_triangle)\n",
        "print(\"Area Of Triangle : \",var**0.5)"
      ],
      "metadata": {
        "colab": {
          "base_uri": "https://localhost:8080/"
        },
        "id": "qI-2mNaXVi4F",
        "outputId": "5af64026-6a9a-41bb-bbbe-80a53950e569"
      },
      "execution_count": 22,
      "outputs": [
        {
          "output_type": "stream",
          "name": "stdout",
          "text": [
            "Area Of Circle is :  1661.589\n",
            "Perimeter Of Circle is :  144.486\n",
            "Area Of Square :  169\n",
            "Perimeter Of Square is :  52\n",
            "Perimeter Of Triangle is :  39\n",
            "Area Of Triangle :  72.30793524918272\n"
          ]
        }
      ]
    },
    {
      "cell_type": "code",
      "source": [
        "#To show the use of all the arithmetic operators.\n",
        "x=30 #variable 1\n",
        "y=20 #variable 2\n",
        "print(\"X + Y = \",x+y) #addition\n",
        "print(\"X - Y = \",x-y) #substraction\n",
        "print(\"X * Y = \",x*y) #multiplication\n",
        "print(\"X / Y = \",x/y) #ivision\n",
        "print(\"X % Y = \",x%y) #modulus\n",
        "print(\"X * Y = \",x*y)  #exponent"
      ],
      "metadata": {
        "colab": {
          "base_uri": "https://localhost:8080/"
        },
        "id": "k43SnMG1WEEa",
        "outputId": "2fa71df5-95f5-4ea6-d885-d249bcec94e4"
      },
      "execution_count": 9,
      "outputs": [
        {
          "output_type": "stream",
          "name": "stdout",
          "text": [
            "X + Y =  50\n",
            "X - Y =  10\n",
            "X * Y =  600\n",
            "X / Y =  1.5\n",
            "X % Y =  10\n",
            "X * Y =  600\n"
          ]
        }
      ]
    },
    {
      "cell_type": "code",
      "source": [
        "#to see the data type of variables\n",
        "a=12\n",
        "b=12.34\n",
        "c=\"Sambit\"\n",
        "d=[1,2,3,7,\"Kumar\"]\n",
        "e=(1,2,6,7)\n",
        "f={8,9,10}\n",
        "g={\"k1\":12,\"k2\":13}\n",
        "print(\" variable a type is : \",type(a))\n",
        "print(\" variable b type is : \",type(b))\n",
        "print(\" variable c type is : \",type(c))\n",
        "print(\" variable d type is : \",type(d))\n",
        "print(\" variable e type is : \",type(e))\n",
        "print(\" variable f type is : \",type(f))\n",
        "print(\" variable g type is : \",type(g))"
      ],
      "metadata": {
        "colab": {
          "base_uri": "https://localhost:8080/"
        },
        "id": "ioXEmzaGWggh",
        "outputId": "e43cee4b-19f4-447f-9720-dfe324fec001"
      },
      "execution_count": 10,
      "outputs": [
        {
          "output_type": "stream",
          "name": "stdout",
          "text": [
            " variable a type is :  <class 'int'>\n",
            " variable b type is :  <class 'float'>\n",
            " variable c type is :  <class 'str'>\n",
            " variable d type is :  <class 'list'>\n",
            " variable e type is :  <class 'tuple'>\n",
            " variable f type is :  <class 'set'>\n",
            " variable g type is :  <class 'dict'>\n"
          ]
        }
      ]
    },
    {
      "cell_type": "code",
      "source": [
        "# To show the use of asignment operators\n",
        "a = 12 # = is used for assignment\n",
        "print(a)\n",
        "a += 20 # addition with assign\n",
        "print(a)\n",
        "a -= 10 # substraction with assign\n",
        "print(a)\n",
        "a *= 10 # multiplication with assign\n",
        "print(a)\n",
        "a /= 10 # Division with assign\n",
        "print(a)\n",
        "a //= 10 # Floor Division with assign\n",
        "print(a)"
      ],
      "metadata": {
        "colab": {
          "base_uri": "https://localhost:8080/"
        },
        "id": "yKYMbYxWWxX1",
        "outputId": "39755d74-0298-4e4c-c4c5-65b05b0e5798"
      },
      "execution_count": 11,
      "outputs": [
        {
          "output_type": "stream",
          "name": "stdout",
          "text": [
            "12\n",
            "32\n",
            "22\n",
            "220\n",
            "22.0\n",
            "2.0\n"
          ]
        }
      ]
    },
    {
      "cell_type": "code",
      "source": [
        "#swap two number in python\n",
        "a=10\n",
        "b=20\n",
        "print(\"Before Swapping a = \",a,\" b = \",b)\n",
        "b,a=a,b\n",
        "print(\"Aftter Swapping a = \",a,\" b = \",b)"
      ],
      "metadata": {
        "colab": {
          "base_uri": "https://localhost:8080/"
        },
        "id": "LVoF_rsIW77T",
        "outputId": "0cd92b1b-e796-4868-8f37-aac4ba54bd10"
      },
      "execution_count": 12,
      "outputs": [
        {
          "output_type": "stream",
          "name": "stdout",
          "text": [
            "Before Swapping a =  10  b =  20\n",
            "Aftter Swapping a =  20  b =  10\n"
          ]
        }
      ]
    },
    {
      "cell_type": "code",
      "source": [
        "#To show the use of all the membership operators.\n",
        "l=[1,2,3,4,5]\n",
        "v=6\n",
        "#in operator\n",
        "print(\" v in l : \",v in l)\n",
        "#not in operator\n",
        "print(\" v not in l\",v not in l)"
      ],
      "metadata": {
        "colab": {
          "base_uri": "https://localhost:8080/"
        },
        "id": "Oaw1JSJZXBw1",
        "outputId": "b39fc5b2-4b77-49a7-f379-c5570af1ad9f"
      },
      "execution_count": 13,
      "outputs": [
        {
          "output_type": "stream",
          "name": "stdout",
          "text": [
            " v in l :  False\n",
            " v not in l True\n"
          ]
        }
      ]
    },
    {
      "cell_type": "code",
      "source": [
        "#the use of all logical operator\n",
        "a=True\n",
        "b=False\n",
        "#and operator\n",
        "print(\" a and b is : \",a and b)\n",
        "#or operator\n",
        "print(\" a or b is : \",a or b)\n",
        "#not opeator\n",
        "print(\" not a : \",not a)"
      ],
      "metadata": {
        "colab": {
          "base_uri": "https://localhost:8080/"
        },
        "id": "EaccrnkpXHiQ",
        "outputId": "e0852fec-ce36-4f7a-c16c-c7651c8a2e8b"
      },
      "execution_count": 14,
      "outputs": [
        {
          "output_type": "stream",
          "name": "stdout",
          "text": [
            " a and b is :  False\n",
            " a or b is :  True\n",
            " not a :  False\n"
          ]
        }
      ]
    },
    {
      "cell_type": "code",
      "source": [
        "#To show the use of all the identity operators.\n",
        "a=16\n",
        "b=18\n",
        "#is operator\n",
        "print(\" a is b : \",a is b)\n",
        "#is not operator\n",
        "print(\" a is not b : \",a is not b)"
      ],
      "metadata": {
        "colab": {
          "base_uri": "https://localhost:8080/"
        },
        "id": "KQANJnZUXNLA",
        "outputId": "3fbcf8af-a7c7-46b6-bcba-fd886fef8142"
      },
      "execution_count": 15,
      "outputs": [
        {
          "output_type": "stream",
          "name": "stdout",
          "text": [
            " a is b :  False\n",
            " a is not b :  True\n"
          ]
        }
      ]
    },
    {
      "cell_type": "code",
      "source": [
        "#To show the use of all the comparison/Relational operators.\n",
        "a=30\n",
        "b=20\n",
        "print(a>b)# a greater then b\n",
        "print(a>=b)#a greater then or equal to b\n",
        "print(a==b)#a equals to b\n",
        "print(a<b)# a less then b\n",
        "print(a<=b)#a less then or equal to b\n",
        "print(a!=b)#a not equal to b"
      ],
      "metadata": {
        "colab": {
          "base_uri": "https://localhost:8080/"
        },
        "id": "e0WsiF0MXSD2",
        "outputId": "bf979583-4f62-4ffb-d7b7-6898d6f26e18"
      },
      "execution_count": 16,
      "outputs": [
        {
          "output_type": "stream",
          "name": "stdout",
          "text": [
            "True\n",
            "True\n",
            "False\n",
            "False\n",
            "False\n",
            "True\n"
          ]
        }
      ]
    },
    {
      "cell_type": "code",
      "source": [
        "#bitwise operator\n",
        "a=5\n",
        "b=3\n",
        "print(\" a & b : \",a&b)#bit wise and\n",
        "print(\" a | b : \",a|b)#bit wise or\n",
        "print(\" a ^ b : \",a^b)#bitwise xor\n",
        "print(\" ~a : \",~a)#bitwise not\n",
        "print(\" a>>1 : \",a>>1)#bitwise right sift\n",
        "print(\" a<<1 : \",a<<1)#bitwise left sift"
      ],
      "metadata": {
        "colab": {
          "base_uri": "https://localhost:8080/"
        },
        "id": "xFteOJutXcC7",
        "outputId": "64eb3ef4-b5c7-4cb1-b732-d5e7fa2cfc80"
      },
      "execution_count": 17,
      "outputs": [
        {
          "output_type": "stream",
          "name": "stdout",
          "text": [
            " a & b :  1\n",
            " a | b :  7\n",
            " a ^ b :  6\n",
            " ~a :  -6\n",
            " a>>1 :  2\n",
            " a<<1 :  10\n"
          ]
        }
      ]
    },
    {
      "cell_type": "code",
      "source": [
        "#To show all the operation and methods related with immutable data type.\n",
        "#string method\n",
        "s=\"sambit kumar\"\n",
        "print(s.capitalize())# capitalize the variable\n",
        "print(s.count(\"i\"))#count the value passed as parameter in string\n",
        "print(s.index(\"b\"))#return the index\n",
        "print(s.upper())#convert to upper case\n",
        "print(s.lower())#convert to lower case\n",
        "#tuple method\n",
        "t=(5,7,8,9,10)\n",
        "print(t.count(4))#count the value passed as parameter in tuple\n",
        "print(t.index(8))#return the index of value"
      ],
      "metadata": {
        "colab": {
          "base_uri": "https://localhost:8080/"
        },
        "id": "yxBcuZGoXeW3",
        "outputId": "03f1e89b-df00-43ca-a621-6eda046dcd66"
      },
      "execution_count": 19,
      "outputs": [
        {
          "output_type": "stream",
          "name": "stdout",
          "text": [
            "Sambit kumar\n",
            "1\n",
            "3\n",
            "SAMBIT KUMAR\n",
            "sambit kumar\n",
            "0\n",
            "2\n"
          ]
        }
      ]
    },
    {
      "cell_type": "code",
      "source": [
        "#all mutable datatype operation\n",
        "#list methods\n",
        "l=[1,2,3,4]\n",
        "print(l[1])#get value with index\n",
        "l.append(12)#add element to list at end\n",
        "print(l)\n",
        "l.extend([1,2,3])#add a list \n",
        "print(l)\n",
        "print(l.index(3))#return the index\n",
        "print(l.pop())#remove the last element from list\n",
        "l.insert(0,10)#insert at specific index\n",
        "print(l)\n",
        "l.remove(2)#remove the element from list\n",
        "print(l)"
      ],
      "metadata": {
        "colab": {
          "base_uri": "https://localhost:8080/"
        },
        "id": "CdUbZdRfXm0q",
        "outputId": "5299bfdc-e256-4393-de7f-e9fb1935e533"
      },
      "execution_count": 20,
      "outputs": [
        {
          "output_type": "stream",
          "name": "stdout",
          "text": [
            "2\n",
            "[1, 2, 3, 4, 12]\n",
            "[1, 2, 3, 4, 12, 1, 2, 3]\n",
            "2\n",
            "3\n",
            "[10, 1, 2, 3, 4, 12, 1, 2]\n",
            "[10, 1, 3, 4, 12, 1, 2]\n"
          ]
        }
      ]
    }
  ]
}