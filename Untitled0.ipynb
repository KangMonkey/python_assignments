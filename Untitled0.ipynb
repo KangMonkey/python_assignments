{
  "nbformat": 4,
  "nbformat_minor": 0,
  "metadata": {
    "colab": {
      "name": "Untitled0.ipynb",
      "provenance": [],
      "collapsed_sections": [],
      "authorship_tag": "ABX9TyMhh0QU1TNDIwt7VZDb8ToU",
      "include_colab_link": true
    },
    "kernelspec": {
      "name": "python3",
      "display_name": "Python 3"
    },
    "language_info": {
      "name": "python"
    }
  },
  "cells": [
    {
      "cell_type": "markdown",
      "metadata": {
        "id": "view-in-github",
        "colab_type": "text"
      },
      "source": [
        "<a href=\"https://colab.research.google.com/github/stellabyte2/python_assignments/blob/main/Untitled0.ipynb\" target=\"_parent\"><img src=\"https://colab.research.google.com/assets/colab-badge.svg\" alt=\"Open In Colab\"/></a>"
      ]
    },
    {
      "cell_type": "code",
      "metadata": {
        "colab": {
          "base_uri": "https://localhost:8080/"
        },
        "id": "cUyQ8qJhrzOy",
        "outputId": "23129d0d-4032-4062-be42-ab77a47f0e03"
      },
      "source": [
        "n = int(input(\"Enter a number: \"))    \n",
        "f = 1    \n",
        "if n < 0:    \n",
        "   print(\" Factorial does not exist for negative numbers\")    \n",
        "elif n == 0:    \n",
        "   print(\"The factorial of 0 is 1\")    \n",
        "else:    \n",
        "   for i in range(1,n + 1):    \n",
        "       f = f*i    \n",
        "   print(\"The factorial of \",n,\" is \",f)"
      ],
      "execution_count": null,
      "outputs": [
        {
          "output_type": "stream",
          "name": "stdout",
          "text": [
            "Enter a number: 5\n",
            "The factorial of  5  is  120\n"
          ]
        }
      ]
    },
    {
      "cell_type": "code",
      "metadata": {
        "colab": {
          "base_uri": "https://localhost:8080/"
        },
        "id": "0W9wx1vetwgD",
        "outputId": "d25fbb50-e4a5-41e4-8cda-c1b1559435b3"
      },
      "source": [
        "list = [10,30,23,43,65,12]  \n",
        "sum = 0  \n",
        "for i in list:  \n",
        "    sum = sum+i  \n",
        "print(\"The sum is:\",sum)"
      ],
      "execution_count": null,
      "outputs": [
        {
          "output_type": "stream",
          "name": "stdout",
          "text": [
            "The sum is: 183\n"
          ]
        }
      ]
    },
    {
      "cell_type": "code",
      "metadata": {
        "colab": {
          "base_uri": "https://localhost:8080/"
        },
        "id": "8ByD3OzVtzwz",
        "outputId": "1e6267cd-a551-4fa4-df6d-1010baf0d688"
      },
      "source": [
        "i=1    \n",
        "number=0    \n",
        "b=9    \n",
        "number = int(input(\"Enter the number:\"))    \n",
        "while i<=10:    \n",
        "    print(\"%d  X  %d  =  %d \\n\"%(number,i,number*i))    \n",
        "    i = i+1"
      ],
      "execution_count": null,
      "outputs": [
        {
          "output_type": "stream",
          "name": "stdout",
          "text": [
            "Enter the number:12\n",
            "12  X  1  =  12 \n",
            "\n",
            "12  X  2  =  24 \n",
            "\n",
            "12  X  3  =  36 \n",
            "\n",
            "12  X  4  =  48 \n",
            "\n",
            "12  X  5  =  60 \n",
            "\n",
            "12  X  6  =  72 \n",
            "\n",
            "12  X  7  =  84 \n",
            "\n",
            "12  X  8  =  96 \n",
            "\n",
            "12  X  9  =  108 \n",
            "\n",
            "12  X  10  =  120 \n",
            "\n"
          ]
        }
      ]
    },
    {
      "cell_type": "code",
      "metadata": {
        "colab": {
          "base_uri": "https://localhost:8080/"
        },
        "id": "UwqVNYjjt67k",
        "outputId": "093138b8-5d4a-4dff-cce5-4ebc9976d0d6"
      },
      "source": [
        "n = int(input(\"Enter value for n :\"))  \n",
        "for i in range(0,n+1):  \n",
        "    for j in range(i):  \n",
        "        print(\"*\",end = '') # here loop print * symbol\n",
        "    print()  "
      ],
      "execution_count": null,
      "outputs": [
        {
          "output_type": "stream",
          "name": "stdout",
          "text": [
            "Enter value for n :5\n",
            "\n",
            "*\n",
            "**\n",
            "***\n",
            "****\n",
            "*****\n"
          ]
        }
      ]
    },
    {
      "cell_type": "code",
      "metadata": {
        "colab": {
          "base_uri": "https://localhost:8080/"
        },
        "id": "xm0f5tSauGIJ",
        "outputId": "2bbe086f-559d-4fcc-cd76-c4a86f963d89"
      },
      "source": [
        "n = int(input(\"Enter value for n\"))  \n",
        "for i in range(0,n+1):  \n",
        "    for j in range(i):  \n",
        "        print(i,end = '')  \n",
        "    print()     # it is for new blank line"
      ],
      "execution_count": null,
      "outputs": [
        {
          "output_type": "stream",
          "name": "stdout",
          "text": [
            "Enter value for n6\n",
            "\n",
            "1\n",
            "22\n",
            "333\n",
            "4444\n",
            "55555\n",
            "666666\n"
          ]
        }
      ]
    },
    {
      "cell_type": "code",
      "metadata": {
        "colab": {
          "base_uri": "https://localhost:8080/"
        },
        "id": "BKQfUyA5zl8R",
        "outputId": "f98e02df-a610-4555-d328-88920306cc61"
      },
      "source": [
        "list =[11,22,3,40,21,56,34,9,44]  \n",
        "count = 1;  \n",
        "S = int(input(\"Enter item to search: \"))  \n",
        "for i in list:  \n",
        "    if i == S:  \n",
        "        print(\"Item matched\")   \n",
        "        break\n",
        "    count = count + 1; \n",
        "print(\"Found at\",count,\"position.\");"
      ],
      "execution_count": null,
      "outputs": [
        {
          "output_type": "stream",
          "name": "stdout",
          "text": [
            "Enter item to search: 21\n",
            "Item matched\n",
            "Found at 5 position.\n"
          ]
        }
      ]
    },
    {
      "cell_type": "code",
      "metadata": {
        "colab": {
          "base_uri": "https://localhost:8080/"
        },
        "id": "cFl4y_IQz8EM",
        "outputId": "4a6c607b-e359-4191-e7d5-efbea454ef24"
      },
      "source": [
        "str = \"Bhubaneswar\"  \n",
        "for i in str:  \n",
        "    if i == 'e':  \n",
        "        break  \n",
        "    print(i);"
      ],
      "execution_count": null,
      "outputs": [
        {
          "output_type": "stream",
          "name": "stdout",
          "text": [
            "B\n",
            "h\n",
            "u\n",
            "b\n",
            "a\n",
            "n\n"
          ]
        }
      ]
    },
    {
      "cell_type": "code",
      "metadata": {
        "colab": {
          "base_uri": "https://localhost:8080/"
        },
        "id": "B5LOObQH0IvO",
        "outputId": "ae04ab21-ea1e-49a2-cd96-c2631919ac66"
      },
      "source": [
        "i = 0;  \n",
        "while 1:  \n",
        "    print(i,\" \",end=\"\"),  \n",
        "    i=i+1;  \n",
        "    if i == 10:  \n",
        "        break;  \n",
        "print(\"came out of while loop\");"
      ],
      "execution_count": null,
      "outputs": [
        {
          "output_type": "stream",
          "name": "stdout",
          "text": [
            "0  1  2  3  4  5  6  7  8  9  came out of while loop\n"
          ]
        }
      ]
    },
    {
      "cell_type": "code",
      "metadata": {
        "colab": {
          "base_uri": "https://localhost:8080/"
        },
        "id": "mSR4oukF0dgW",
        "outputId": "b43ddd19-21d0-4f63-a6f4-96d5d7cd2a33"
      },
      "source": [
        "n=2  \n",
        "while 1:  \n",
        "    i=1;  \n",
        "    while i<=10:  \n",
        "        print(\"%d X %d = %d\\n\"%(n,i,n*i));  \n",
        "        i = i+1;  \n",
        "    choice = int(input(\"Do you want to continue printing the table, press 0 for no?\"))  \n",
        "    if choice == 0:  \n",
        "        break;      \n",
        "    n=n+1"
      ],
      "execution_count": null,
      "outputs": [
        {
          "name": "stdout",
          "output_type": "stream",
          "text": [
            "2 X 1 = 2\n",
            "\n",
            "2 X 2 = 4\n",
            "\n",
            "2 X 3 = 6\n",
            "\n",
            "2 X 4 = 8\n",
            "\n",
            "2 X 5 = 10\n",
            "\n",
            "2 X 6 = 12\n",
            "\n",
            "2 X 7 = 14\n",
            "\n",
            "2 X 8 = 16\n",
            "\n",
            "2 X 9 = 18\n",
            "\n",
            "2 X 10 = 20\n",
            "\n",
            "Do you want to continue printing the table, press 0 for no?0\n"
          ]
        }
      ]
    },
    {
      "cell_type": "code",
      "metadata": {
        "colab": {
          "base_uri": "https://localhost:8080/"
        },
        "id": "98oFWaA-0lSR",
        "outputId": "d96e4190-0e68-4599-ca52-658c67b5796a"
      },
      "source": [
        "i = 0                     \n",
        "while(i < 10):                \n",
        "   i = i+1  \n",
        "   if(i == 5):  \n",
        "      continue  \n",
        "   print(i)  "
      ],
      "execution_count": null,
      "outputs": [
        {
          "output_type": "stream",
          "name": "stdout",
          "text": [
            "1\n",
            "2\n",
            "3\n",
            "4\n",
            "6\n",
            "7\n",
            "8\n",
            "9\n",
            "10\n"
          ]
        }
      ]
    },
    {
      "cell_type": "code",
      "metadata": {
        "colab": {
          "base_uri": "https://localhost:8080/"
        },
        "id": "Fwb45SY0039t",
        "outputId": "09cbf5ab-ef43-47f0-a08d-4e59ee65e567"
      },
      "source": [
        "str = \"Bhubaneswar\"  \n",
        "for i in str:  \n",
        "    if(i == 'n'):  \n",
        "        continue  \n",
        "    print(i)"
      ],
      "execution_count": null,
      "outputs": [
        {
          "output_type": "stream",
          "name": "stdout",
          "text": [
            "B\n",
            "h\n",
            "u\n",
            "b\n",
            "a\n",
            "e\n",
            "s\n",
            "w\n",
            "a\n",
            "r\n"
          ]
        }
      ]
    },
    {
      "cell_type": "code",
      "metadata": {
        "colab": {
          "base_uri": "https://localhost:8080/"
        },
        "id": "iAB4GcRl-YTH",
        "outputId": "f955ae51-2860-42df-cf08-28fdd5200135"
      },
      "source": [
        "str = \"C V Raman Global University\"  \n",
        "# Start 0th index to end  \n",
        "print(str[0:])  \n",
        "# Starts 1th index to 4th index  \n",
        "print(str[1:5])  \n",
        "# Starts 2nd index to 3rd index  \n",
        "print(str[2:4])  \n",
        "# Starts 0th to 2nd index  \n",
        "print(str[:3])  \n",
        "#Starts 4th to 6th index  \n",
        "print(str[4:7])"
      ],
      "execution_count": null,
      "outputs": [
        {
          "output_type": "stream",
          "name": "stdout",
          "text": [
            "C V Raman Global University\n",
            " V R\n",
            "V \n",
            "C V\n",
            "Ram\n"
          ]
        }
      ]
    },
    {
      "cell_type": "code",
      "metadata": {
        "colab": {
          "base_uri": "https://localhost:8080/"
        },
        "id": "6QNch_ub_AX-",
        "outputId": "afe7e644-2e74-4440-9534-decbf4eb4aa3"
      },
      "source": [
        "str = \"Hello\"     \n",
        "str1 = \" CGU\"    \n",
        "print(str*3) # prints HelloHelloHello    \n",
        "print(str+str1)# prints Hello CGU     \n",
        "print(str[4]) # prints o                \n",
        "print(str[2:4]); # prints ll                    \n",
        "print('U' in str) # prints false as w is not present in str"
      ],
      "execution_count": null,
      "outputs": [
        {
          "output_type": "stream",
          "name": "stdout",
          "text": [
            "HelloHelloHello\n",
            "Hello CGU\n",
            "o\n",
            "ll\n",
            "False\n"
          ]
        }
      ]
    },
    {
      "cell_type": "code",
      "metadata": {
        "colab": {
          "base_uri": "https://localhost:8080/"
        },
        "id": "9n8-BjcIAXFk",
        "outputId": "8a6ec4d3-7307-492b-9556-8267be663cc8"
      },
      "source": [
        "str = \"Hello Python\"  \n",
        "str2 = str.upper()  \n",
        "print(str2)  \n",
        "\n",
        "list = [\"ankita\",\"basanta\",\"sujata\"]  \n",
        "for  l in list:  \n",
        "    print(l.upper())"
      ],
      "execution_count": null,
      "outputs": [
        {
          "output_type": "stream",
          "name": "stdout",
          "text": [
            "HELLO PYTHON\n",
            "ANKITA\n",
            "BASANTA\n",
            "SUJATA\n"
          ]
        }
      ]
    },
    {
      "cell_type": "code",
      "metadata": {
        "colab": {
          "base_uri": "https://localhost:8080/"
        },
        "id": "MzyiWaUIBBYw",
        "outputId": "db45d99b-6d70-434b-8868-22c284456fae"
      },
      "source": [
        "str = \"Happy Independence Day\"  \n",
        "str2 = str.swapcase()  \n",
        "print (str2)"
      ],
      "execution_count": null,
      "outputs": [
        {
          "output_type": "stream",
          "name": "stdout",
          "text": [
            "hAPPY iNDEPENDENCE dAY\n"
          ]
        }
      ]
    },
    {
      "cell_type": "code",
      "metadata": {
        "colab": {
          "base_uri": "https://localhost:8080/"
        },
        "id": "xD5nNXPkB7Fs",
        "outputId": "e420b7b1-0caf-4efd-b40f-21d6ec16aa34"
      },
      "source": [
        "LIST =[]  \n",
        "n = int(input(\"Enter the number of elements in the list:\"))  \n",
        "for i in range(0,n):     \n",
        "    LIST.append(input(\"Enter the item:\"))     \n",
        "print(\"printing the list items..\")   \n",
        "for i in LIST:   \n",
        "    print(i, end = \"  \") "
      ],
      "execution_count": null,
      "outputs": [
        {
          "output_type": "stream",
          "name": "stdout",
          "text": [
            "Enter the number of elements in the list:4\n",
            "Enter the item:1\n",
            "Enter the item:4\n",
            "Enter the item:5\n",
            "Enter the item:6\n",
            "printing the list items..\n",
            "1  4  5  6  "
          ]
        }
      ]
    },
    {
      "cell_type": "code",
      "metadata": {
        "colab": {
          "base_uri": "https://localhost:8080/"
        },
        "id": "T3QgG8ABCEfr",
        "outputId": "e5b3120f-db8b-4ce9-9a4b-e4e91871daf4"
      },
      "source": [
        "list = [0,1,2,3,4]     \n",
        "print(\"printing original list: \");    \n",
        "for i in list:    \n",
        "    print(i,end=\" \")    \n",
        "list.remove(2)    \n",
        "print(\"\\nprinting the list after the removal of first element...\")    \n",
        "for i in list:    \n",
        "    print(i,end=\" \")  "
      ],
      "execution_count": null,
      "outputs": [
        {
          "output_type": "stream",
          "name": "stdout",
          "text": [
            "printing original list: \n",
            "0 1 2 3 4 \n",
            "printing the list after the removal of first element...\n",
            "0 1 3 4 "
          ]
        }
      ]
    },
    {
      "cell_type": "code",
      "metadata": {
        "colab": {
          "base_uri": "https://localhost:8080/"
        },
        "id": "LRrPDAKtCIvg",
        "outputId": "f2a4051e-7a01-4d41-f39b-c1c41d15faa7"
      },
      "source": [
        "list1 = [1,2,2,3,55,98,65,65,13,29]  \n",
        "# Declare an empty list that will store unique values  \n",
        "list2 = []  \n",
        "for i in list1:  \n",
        "    if i not in list2:  \n",
        "        list2.append(i)  \n",
        "print(list2)  "
      ],
      "execution_count": null,
      "outputs": [
        {
          "output_type": "stream",
          "name": "stdout",
          "text": [
            "[1, 2, 3, 55, 98, 65, 13, 29]\n"
          ]
        }
      ]
    },
    {
      "cell_type": "code",
      "metadata": {
        "colab": {
          "base_uri": "https://localhost:8080/"
        },
        "id": "HgEyCHWsCPM7",
        "outputId": "73780685-c675-4106-b73d-25b89ad2d3a5"
      },
      "source": [
        "list1 = [3,4,5,9,10,12,24]  \n",
        "sum = 0  \n",
        "for i in list1:  \n",
        "    sum = sum+i      \n",
        "print(\"The sum is:\",sum)"
      ],
      "execution_count": null,
      "outputs": [
        {
          "output_type": "stream",
          "name": "stdout",
          "text": [
            "The sum is: 67\n"
          ]
        }
      ]
    },
    {
      "cell_type": "code",
      "metadata": {
        "colab": {
          "base_uri": "https://localhost:8080/"
        },
        "id": "_aOAXZv7CaBX",
        "outputId": "487d6154-4373-49ec-d6eb-680fbb3e7119"
      },
      "source": [
        "list1 = [1,2,3,4,5,6]  \n",
        "list2 = [7,8,9,2,10]  \n",
        "for x in list1:  \n",
        "    for y in list2:  \n",
        "        if x == y:  \n",
        "            print(\"The common element is:\",x)"
      ],
      "execution_count": null,
      "outputs": [
        {
          "output_type": "stream",
          "name": "stdout",
          "text": [
            "The common element is: 2\n"
          ]
        }
      ]
    }
  ]
}